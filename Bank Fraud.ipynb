{
 "cells": [
  {
   "cell_type": "code",
   "execution_count": 7,
   "metadata": {},
   "outputs": [],
   "source": [
    "#Simply said, with 1 lakh rupees of money 20 years ago, you could have bought a lot more than you can today. \n",
    "#As a result, even if you can acquire 1 lakh rupees or more after saving for 15, 20, or 30 years, \n",
    "#its actual value would be substantially lower.\n",
    "#1 lakh would be worth roughly INR 48,000 in 15 years, assuming a 5% inflation rate.\n",
    "#\n",
    "#Additionally, the value decreases even more with a longer time horizon. Assuming an annual inflation rate of 5%,\n",
    "#the value of one lakh will be about INR 37 thousand, INR 29 thousand, and INR 23 thousand after\n",
    "#20, 25, and 30 years, respectively.\n",
    "#\n",
    "#The answer is to set aside money that is adjusted for inflation. \n",
    "#You must first inflate the goal’s cost to determine the criteria for that.\n",
    "\n",
    "\n"
   ]
  },
  {
   "cell_type": "code",
   "execution_count": 8,
   "metadata": {
    "scrolled": true
   },
   "outputs": [
    {
     "name": "stdout",
     "output_type": "stream",
     "text": [
      "Enter the requested amount per year:180000\n",
      "Total Investement 1800000\n",
      "Number_of_Years:30\n",
      "Enter Promised amount by Bank4560000\n",
      "Amount afterNumber_of_Years 6575935.869259957\n",
      "Bank is fraud\n"
     ]
    }
   ],
   "source": [
    "Investment=int(input(\"Enter the requested amount per year:\"))*10\n",
    "print(\"Total Investement\",Investment)\n",
    "Number_of_Years=int(input(\"Number_of_Years:\"))\n",
    "\n",
    "Number_of_years_after=Number_of_Years-10\n",
    "\n",
    "Promised_amount_by=int(input(\"Enter Promised amount by Bank\"))\n",
    "\n",
    "inflation_amount=Investment\n",
    "\n",
    "for i in range(Number_of_years_after):\n",
    "    inflation_amount=inflation_amount+inflation_amount*0.05\n",
    "\n",
    "Total_after_inflation=Investment+inflation_amount\n",
    "print(\"Amount after\"+\"Number_of_Years \"+str(Total_after_inflation))\n",
    "\n",
    "if Promised_amount_by>Total_after_inflation:\n",
    "    print(\"Good Investement\")\n",
    "else:\n",
    "    print(\"Bank is fraud\")\n",
    "    \n",
    "    "
   ]
  },
  {
   "cell_type": "code",
   "execution_count": 9,
   "metadata": {},
   "outputs": [
    {
     "name": "stdout",
     "output_type": "stream",
     "text": [
      "Instead of that try below investments\n",
      "Which type of Investement you want? 1)gold 2)SIPsip\n",
      "Select type of SIP: 1)Low risk plan 2)balanced plan 3)diviersified plan 4)aggressive planlow risk plan\n",
      "Total Return 12109499.908786083\n"
     ]
    }
   ],
   "source": [
    "print(\"Instead of that try below investments\")\n",
    "#if you invest in gold\n",
    "\n",
    "N=str(input(\"Which type of Investement you want? 1)gold 2)SIP\")).lower()\n",
    "ROI=1\n",
    "Return=Investment\n",
    "if N==\"gold\":\n",
    "    if Number_of_years_after<=10:\n",
    "        ROI=8.65\n",
    "    elif Number_of_years_after>10 and Number_of_years_after<=15:\n",
    "        ROI=11.60\n",
    "    elif Number_of_years_after>15 and Number_of_years_after<=20:\n",
    "        ROI=12.4\n",
    "    elif Number_of_years_after>20 and Number_of_years_after<=25:\n",
    "        ROI=9.4\n",
    "elif N==\"sip\":\n",
    "    slect_type_of_SIP=str(input(\"Select type of SIP: 1)Low risk plan 2)balanced plan 3)diviersified plan 4)aggressive plan\")).lower()\n",
    "    if slect_type_of_SIP==\"low risk plan\":\n",
    "        ROI=10\n",
    "    elif slect_type_of_SIP==\"balanced plan\":\n",
    "        ROI=12\n",
    "    elif slect_type_of_SIP==\"diviersified plan\":\n",
    "        ROI=15\n",
    "    elif slect_type_of_SIP==\"aggressive plan\":\n",
    "        ROI=20\n",
    "        \n",
    "    \n",
    "Gold_return=Investment   \n",
    "for i in range(Number_of_years_after):\n",
    "    Return=Return+Return*(ROI/100)\n",
    "    Gold_return=Gold_return+Gold_return*(9.4/100)\n",
    "print(\"Total Return\",Return)\n",
    "\n",
    "\n",
    "\n",
    "\n",
    "\n"
   ]
  },
  {
   "cell_type": "code",
   "execution_count": 10,
   "metadata": {},
   "outputs": [
    {
     "data": {
      "image/png": "[encoded data removed]",
      "text/plain": [
       "<Figure size 432x288 with 1 Axes>"
      ]
     },
     "metadata": {
      "needs_background": "light"
     },
     "output_type": "display_data"
    }
   ],
   "source": [
    "import matplotlib.pyplot as plt\n",
    "%matplotlib inline\n",
    "fig = plt.figure()\n",
    "ax = fig.add_axes([0,0,1,1])\n",
    "\n",
    "Investment = ['Bank skim', 'Inflation', 'Gold', 'SIP']\n",
    "Type = [Promised_amount_by,Total_after_inflation,Gold_return,Return]\n",
    "ax.bar(Investment,Type)\n",
    "plt.show()"
   ]
  },
  {
   "cell_type": "code",
   "execution_count": null,
   "metadata": {},
   "outputs": [],
   "source": []
  },
  {
   "cell_type": "code",
   "execution_count": null,
   "metadata": {},
   "outputs": [],
   "source": []
  }
 ],
 "metadata": {
  "kernelspec": {
   "display_name": "Python 3",
   "language": "python",
   "name": "python3"
  },
  "language_info": {
   "codemirror_mode": {
    "name": "ipython",
    "version": 3
   },
   "file_extension": ".py",
   "mimetype": "text/x-python",
   "name": "python",
   "nbconvert_exporter": "python",
   "pygments_lexer": "ipython3",
   "version": "3.8.5"
  }
 },
 "nbformat": 4,
 "nbformat_minor": 4
}
