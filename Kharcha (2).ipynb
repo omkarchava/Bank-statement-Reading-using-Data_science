{
 "cells": [
  {
   "cell_type": "code",
   "execution_count": null,
   "metadata": {},
   "outputs": [],
   "source": [
    "import pandas as pd\n",
    "\n",
    "df = pd.read_excel(\"Acct Statement_XX3609_16022023 (1).xls\")\n",
    "\n",
    "df = df.fillna(0)\n",
    "print(df)"
   ]
  },
  {
   "cell_type": "code",
   "execution_count": null,
   "metadata": {},
   "outputs": [],
   "source": [
    "Debited=0\n",
    "credited=0\n",
    "EMI=0\n",
    "Below_100=0\n",
    "Between_100_to_300=0\n",
    "Between_300_to_500=0\n",
    "Between_500_to_1000=0\n",
    "# Iterate all rows using DataFrame.iterrows()\n",
    "for index, row in df.iterrows():\n",
    "    \n",
    "    print (index,row[\"Withdrawal Amt.\"],row[\"Deposit Amt.\"])\n",
    "    \n",
    "    Debited=Debited+(row[\"Withdrawal Amt.\"])\n",
    "    credited=credited+(row[\"Deposit Amt.\"])\n",
    "    saving=(credited-Debited)\n",
    "    if row[\"Withdrawal Amt.\"]==12842.11:\n",
    "        EMI=EMI+row[\"Withdrawal Amt.\"]\n",
    "    if row[\"Withdrawal Amt.\"]<=1000 and row[\"Withdrawal Amt.\"]>500 :\n",
    "        Between_500_to_1000+=row[\"Withdrawal Amt.\"]\n",
    "    if row[\"Withdrawal Amt.\"]<=500 and  row[\"Withdrawal Amt.\"]>300:\n",
    "        Between_300_to_500+=row[\"Withdrawal Amt.\"]\n",
    "    if row[\"Withdrawal Amt.\"]<=300 and row[\"Withdrawal Amt.\"]>100:\n",
    "        Between_100_to_300+=row[\"Withdrawal Amt.\"]\n",
    "    if row[\"Withdrawal Amt.\"]<=100:\n",
    "        Below_100+=row[\"Withdrawal Amt.\"]\n",
    "    \n",
    "    \n",
    "    \n",
    "        \n",
    "        \n",
    "\n",
    "print(\"Debited\",Debited)\n",
    "print(\"credited\",credited)\n",
    "print(\"EMI\",EMI)\n",
    "print(\"Below_100\",Below_100)\n",
    "print(\"Between_100_to_300\",Between_100_to_300)\n",
    "print(\"Between_300_to_500\",Between_300_to_500)\n",
    "print(\"Between_500_to_1000\",Between_500_to_1000)\n",
    "Unwanted_expenses =Below_100+Between_100_to_300+Between_300_to_500+Between_500_to_1000\n",
    "\n",
    "if saving<0:\n",
    "    saving=-(credited-Debited)\n",
    "    print(\"Total Saving \"+\"Rs.-\"+str(saving)+\"/-\")\n",
    "\n",
    "\n"
   ]
  },
  {
   "cell_type": "code",
   "execution_count": null,
   "metadata": {},
   "outputs": [],
   "source": [
    "import matplotlib.pyplot as plt\n",
    "%matplotlib inline"
   ]
  },
  {
   "cell_type": "code",
   "execution_count": null,
   "metadata": {},
   "outputs": [],
   "source": [
    "sizes = [Debited, credited, saving,EMI,Below_100,Between_100_to_300,Between_300_to_500,Between_500_to_1000]\n",
    "labels = 'Debited', 'credited', 'Saving','EMI',\"Below_100\",\"Between_100_to_300\",\"Between_300_to_500\",\"Between_500_to_1000\"\n",
    "\n",
    "\n",
    "plt.pie(sizes,labels = labels)\n",
    "plt.pie(sizes, autopct='%1.1f%%')\n",
    "\n",
    "\n",
    "plt.title('Survival from 2nd of November to 31st of January')\n",
    "plt.axis('equal')\n",
    "\n",
    "\n",
    "plt.show()\n",
    "\n",
    "print(\"Debited \"+\"Rs.\"+str(Debited)+\"/-\")\n",
    "print(\"credited \"+\"Rs.\"+str(credited)+\"/-\")\n",
    "print(\"EMI \"+\"Rs.\"+str(EMI)+\"/-\")\n",
    "print(\"Below_100 \"+\"Rs.\"+str(Below_100)+\"/-\")\n",
    "print(\"Between_100_to_300 \"+\"Rs.\"+str(Between_100_to_300)+\"/-\")\n",
    "print(\"Between_300_to_500 \"+\"Rs.\"+str(Between_300_to_500)+\"/-\")\n",
    "print(\"Between_500_to_1000 \"+\"Rs.\"+str(Between_500_to_1000)+\"/-\")\n",
    "print(\"Unwanted_expenses \"+\"Rs.\"+str(Unwanted_expenses)+\"/-\")\n",
    "\n",
    "if saving<0:\n",
    "    saving=-(credited-Debited)\n",
    "print(\"Total Saving \"+\"Rs.-\"+str(saving)+\"/-\")"
   ]
  },
  {
   "cell_type": "code",
   "execution_count": null,
   "metadata": {},
   "outputs": [],
   "source": [
    "emi=0\n",
    "zomato=0\n",
    "for index, row in df.iterrows():\n",
    "    if \"UPI-ABHIJIT SHIVAJI CHAV\" in row[\"Narration\"]:\n",
    "        emi=emi+row[\"Deposit Amt.\"]\n",
    "    if \"UPI-ZOMATO PRIVATE\" in row[\"Narration\"]:\n",
    "        zomato+=row[\"Withdrawal Amt.\"]\n",
    "print(emi)\n",
    "print(zomato)\n",
    "    "
   ]
  },
  {
   "cell_type": "code",
   "execution_count": null,
   "metadata": {},
   "outputs": [],
   "source": [
    "POS=0\n",
    "CRED=0\n",
    "for index, row in df.iterrows():\n",
    "    if \"POS\" in row[\"Narration\"]:\n",
    "        POS=POS+row[\"Deposit Amt.\"]\n",
    "    if \"CRED\" in row[\"Narration\"]:\n",
    "        CRED+=row[\"Withdrawal Amt.\"]\n",
    "print(POS)\n",
    "print(CRED)\n",
    "\n"
   ]
  }
 ],
 "metadata": {
  "kernelspec": {
   "display_name": "Python 3",
   "language": "python",
   "name": "python3"
  },
  "language_info": {
   "codemirror_mode": {
    "name": "ipython",
    "version": 3
   },
   "file_extension": ".py",
   "mimetype": "text/x-python",
   "name": "python",
   "nbconvert_exporter": "python",
   "pygments_lexer": "ipython3",
   "version": "3.8.5"
  }
 },
 "nbformat": 4,
 "nbformat_minor": 5
}
